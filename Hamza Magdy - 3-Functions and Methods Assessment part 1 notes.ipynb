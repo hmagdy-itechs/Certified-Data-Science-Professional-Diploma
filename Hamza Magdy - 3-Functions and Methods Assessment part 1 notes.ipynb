{
 "cells": [
  {
   "cell_type": "code",
   "execution_count": null,
   "metadata": {},
   "outputs": [],
   "source": [
    "def has_33_incorrect(x):\n",
    "  print(\"\\nRunning the incorrect function\")\n",
    "  for i in range(len(x)-1):\n",
    "    print(\"Checking indices {} and {}\".format(i, i+1))\n",
    "    if x[i:i+2] == [3,3]:\n",
    "      print(\"indices contain 2 consecutive 3's. Returning true\")\n",
    "      return True\n",
    "    else:\n",
    "      print(\"indices don't contain 2 consecutive 3's. Returning false\")\n",
    "      return False\n",
    "\n",
    "def has_33_correct(x):\n",
    "  print(\"\\nRunning the correct function\")\n",
    "  for i in range(len(x)-1):\n",
    "    print(\"Checking indices {} and {}\".format(i, i+1))\n",
    "    if x[i:i+2] == [3,3]:\n",
    "      print(\"indices contain 2 consecutive 3's. Returning true\")\n",
    "      return True\n",
    "  print(\"Did not find consecutive 3's. Returning false\")\n",
    "  return False\n",
    "\n",
    "\n",
    "list = [1, 2, 4, 5, 6, 3, 3, 2, 5]\n",
    "has_33_incorrect(list)\n",
    "has_33_correct(list)"
   ]
  }
 ],
 "metadata": {
  "interpreter": {
   "hash": "af8d9fc4e404a569e3f9a51d9dd1dcd83099d74085f2011f59e73684f5b627d3"
  },
  "kernelspec": {
   "display_name": "Python 3.10.3 64-bit",
   "language": "python",
   "name": "python3"
  },
  "language_info": {
   "codemirror_mode": {
    "name": "ipython",
    "version": 3
   },
   "file_extension": ".py",
   "mimetype": "text/x-python",
   "name": "python",
   "nbconvert_exporter": "python",
   "pygments_lexer": "ipython3",
   "version": "3.10.3"
  },
  "orig_nbformat": 4
 },
 "nbformat": 4,
 "nbformat_minor": 2
}
