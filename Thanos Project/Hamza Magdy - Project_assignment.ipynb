{
 "cells": [
  {
   "cell_type": "markdown",
   "metadata": {},
   "source": [
    "# Project 1:\n",
    "    - using thanos backup images, put them inside universe directory\n",
    "    - loop through the files inside the directory\n",
    "        - for each file in the directory\n",
    "            - generate a random name from the english letters - google list of english letters in python -\n",
    "            - rename the images inside the  `universe` directory to the generated one "
   ]
  },
  {
   "cell_type": "markdown",
   "metadata": {},
   "source": [
    "I solved it using two different methods the first one genrates random letters,The second one generates random names by using the names library"
   ]
  },
  {
   "cell_type": "code",
   "execution_count": 1,
   "metadata": {},
   "outputs": [],
   "source": [
    "import os"
   ]
  },
  {
   "cell_type": "code",
   "execution_count": 2,
   "metadata": {},
   "outputs": [
    {
     "data": {
      "text/plain": [
       "'D:/Certified Data Science Professional Diploma/Session(7) Intro to Python Programming (5)/Thanos Project/Thanos-Images/universe/'"
      ]
     },
     "execution_count": 2,
     "metadata": {},
     "output_type": "execute_result"
    }
   ],
   "source": [
    "import shutil\n",
    "backup = ('D:/Certified Data Science Professional Diploma/Session(7) Intro to Python Programming (5)/Thanos Project/Thanos-Images/backup')\n",
    "universe = ('D:/Certified Data Science Professional Diploma/Session(7) Intro to Python Programming (5)/Thanos Project/Thanos-Images/universe/')\n",
    "shutil.copytree(backup, universe)"
   ]
  },
  {
   "cell_type": "markdown",
   "metadata": {},
   "source": [
    "The first Method"
   ]
  },
  {
   "cell_type": "code",
   "execution_count": 3,
   "metadata": {},
   "outputs": [],
   "source": [
    "import random\n",
    "import string"
   ]
  },
  {
   "cell_type": "code",
   "execution_count": 4,
   "metadata": {},
   "outputs": [
    {
     "name": "stdout",
     "output_type": "stream",
     "text": [
      "['aCZLJ.png', 'AGQof.png', 'aiQjO.png', 'apoli.png', 'BePql.png', 'DLOeb.png', 'dMMdE.png', 'dneBt.png', 'eCjhh.png', 'EWOmp.png', 'FEdiN.png', 'Fhnyf.png', 'genBg.png', 'gQgXs.png', 'hFOQh.png', 'HOTSP.png', 'HozHL.png', 'idkuR.png', 'izHaa.png', 'jIlVa.png', 'jmHdO.png', 'jNxML.png', 'kwZCm.png', 'KybJy.png', 'lGoNF.png', 'LMDjI.png', 'mcCNK.png', 'nxuCa.png', 'ojVMa.png', 'OzVcM.png', 'PaMaz.png', 'PJkHR.png', 'QaRJC.png', 'qKNou.png', 'reeAh.png', 'rqIMt.png', 'SqPhH.png', 'sTcUf.png', 'TEREA.png', 'TPvxf.png', 'uIbPS.png', 'UtEcT.png', 'uTLZJ.png', 'VCiXa.png', 'VOnle.png', 'VsbdI.png', 'WHeXY.png', 'YmJzZ.png', 'YxzvJ.png', 'zrZwR.png']\n"
     ]
    }
   ],
   "source": [
    "file_name = os.listdir(universe)\n",
    "for x in range(50):\n",
    "    fileaddre = universe+file_name[x]\n",
    "    newname = universe+''.join(random.choice(string.ascii_letters) for x in range(5))+'.png'\n",
    "    os.rename(fileaddre, newname)\n",
    "new_file_names = os.listdir(universe)\n",
    "print(new_file_names)"
   ]
  },
  {
   "cell_type": "markdown",
   "metadata": {},
   "source": [
    "The Second Method"
   ]
  },
  {
   "cell_type": "code",
   "execution_count": 5,
   "metadata": {},
   "outputs": [],
   "source": [
    "import names"
   ]
  },
  {
   "cell_type": "code",
   "execution_count": 6,
   "metadata": {},
   "outputs": [
    {
     "name": "stdout",
     "output_type": "stream",
     "text": [
      "['Adam Reveles.png', 'Albert Bradley.png', 'Arlene Watson.png', 'Asa Pfifer.png', 'Ben Lopez.png', 'Bernard Stewart.png', 'Brian Thomas.png', 'Bruce Palmer.png', 'Carol Poe.png', 'Caroline Sherwin.png', 'Catherine Vandyke.png', 'Cory Lyman.png', 'Debra Wells.png', 'Doris Colflesh.png', 'Dorothy Guinasso.png', 'Edgar Goldman.png', 'Fernando Otto.png', 'Grace Leach.png', 'Heriberto Berry.png', 'Jack Delano.png', 'James Williams.png', 'Jason Cannella.png', 'Jay Birt.png', 'Jeanne Wilkin.png', 'Jeffrey Denard.png', 'Jennifer Arnold.png', 'John Christopher.png', 'Jonathan Waddell.png', 'Joy Simpkins.png', 'Kaitlyn Wright.png', 'Katherine Oliver.png', 'Katie Vanlandingham.png', 'Lynda Saunders.png', 'Mamie Mccurdy.png', 'Mark Drake.png', 'Mary Rucker.png', 'Melissa Klein.png', 'Michael Vidales.png', 'Michelle Paik.png', 'Misty Stephens.png', 'Pauline Wilner.png', 'Raymond Arsenault.png', 'Rhonda Bales.png', 'Richard Orozco.png', 'Rosemary Knopp.png', 'Ruth Bloomer.png', 'Ruthie Vanschoick.png', 'Ryan Martin.png', 'Sherman Gregory.png', 'Tabitha Rose.png']\n"
     ]
    }
   ],
   "source": [
    "file_name = os.listdir(universe)\n",
    "for x in range(50):\n",
    "    fileaddre = universe+file_name[x]\n",
    "    newname = universe+names.get_full_name()+'.png'\n",
    "    os.rename(fileaddre, newname)\n",
    "new_file_names = os.listdir(universe)\n",
    "print(new_file_names)"
   ]
  }
 ],
 "metadata": {
  "interpreter": {
   "hash": "af8d9fc4e404a569e3f9a51d9dd1dcd83099d74085f2011f59e73684f5b627d3"
  },
  "kernelspec": {
   "display_name": "Python 3.10.3 64-bit",
   "language": "python",
   "name": "python3"
  },
  "language_info": {
   "codemirror_mode": {
    "name": "ipython",
    "version": 3
   },
   "file_extension": ".py",
   "mimetype": "text/x-python",
   "name": "python",
   "nbconvert_exporter": "python",
   "pygments_lexer": "ipython3",
   "version": "3.10.3"
  },
  "orig_nbformat": 4
 },
 "nbformat": 4,
 "nbformat_minor": 2
}
